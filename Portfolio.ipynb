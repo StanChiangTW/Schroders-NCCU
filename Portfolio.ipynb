{
 "cells": [
  {
   "cell_type": "code",
   "execution_count": 76,
   "metadata": {},
   "outputs": [],
   "source": [
    "import numpy as np\n",
    "import pandas as pd\n",
    "import matplotlib.pyplot as plt\n",
    "import warnings\n",
    "import matplotlib.ticker as ticker\n",
    "import dataframe_image as dfi\n",
    "warnings.filterwarnings('ignore')\n",
    "\n",
    "%matplotlib inline"
   ]
  },
  {
   "cell_type": "markdown",
   "metadata": {},
   "source": [
    "# 台灣ESG電動車低排放投資組合建構"
   ]
  },
  {
   "cell_type": "markdown",
   "metadata": {},
   "source": [
    "## 匯入資料 &　日期處理"
   ]
  },
  {
   "cell_type": "code",
   "execution_count": 77,
   "metadata": {},
   "outputs": [],
   "source": [
    "df = pd.read_excel(\"price.xlsx\", header=0,engine='openpyxl')"
   ]
  },
  {
   "cell_type": "code",
   "execution_count": 78,
   "metadata": {},
   "outputs": [],
   "source": [
    "df['年月'] = df['年月'].astype('str')\n",
    "df['年月'] = df['年月'].str.replace('-','')\n",
    "df['年月'] = df['年月'].str[0:6]"
   ]
  },
  {
   "cell_type": "code",
   "execution_count": 79,
   "metadata": {},
   "outputs": [
    {
     "data": {
      "text/plain": [
       "年月\n",
       "201701     9\n",
       "201702     9\n",
       "201703     9\n",
       "201704     9\n",
       "201705     9\n",
       "201706     9\n",
       "201707     9\n",
       "201708     9\n",
       "201709     9\n",
       "201710     9\n",
       "201711     9\n",
       "201712     9\n",
       "201801     9\n",
       "201802     9\n",
       "201803     9\n",
       "201804     9\n",
       "201805     9\n",
       "201806     9\n",
       "201807     9\n",
       "201808     9\n",
       "201809     9\n",
       "201810     9\n",
       "201811     9\n",
       "201812     9\n",
       "201901    10\n",
       "201902    10\n",
       "201903    10\n",
       "201904    10\n",
       "201905    10\n",
       "201906    10\n",
       "201907    10\n",
       "201908    10\n",
       "201909    10\n",
       "201910    10\n",
       "201911    10\n",
       "201912    10\n",
       "202001    11\n",
       "202002    11\n",
       "202003    11\n",
       "202004    11\n",
       "202005    11\n",
       "202006    11\n",
       "202007    11\n",
       "202008    11\n",
       "202009    11\n",
       "202010    11\n",
       "202011    11\n",
       "202012    11\n",
       "Name: 證券代碼, dtype: int64"
      ]
     },
     "execution_count": 79,
     "metadata": {},
     "output_type": "execute_result"
    }
   ],
   "source": [
    "df.groupby('年月')['證券代碼'].count()"
   ]
  },
  {
   "cell_type": "markdown",
   "metadata": {},
   "source": [
    "## 市值 & 平均加權"
   ]
  },
  {
   "cell_type": "code",
   "execution_count": null,
   "metadata": {},
   "outputs": [],
   "source": [
    "# df['年'] = df['年月'].str[0:4]\n",
    "# df['MktWeight'] = (df.groupby(['年','證券代碼'])['市值(百萬元)'].transform('sum').astype(int))/(df.groupby('年')['市值(百萬元)'].transform('sum').astype(int))\n",
    "# df.loc[df['年'] == '2017', 'EqWeight'] = 1/9\n",
    "# df.loc[df['年'] == '2018', 'EqWeight'] = 1/9\n",
    "# df.loc[df['年'] == '2019', 'EqWeight'] = 1/10\n",
    "# df.loc[df['年'] == '2020', 'EqWeight'] = 1/11"
   ]
  },
  {
   "cell_type": "markdown",
   "metadata": {},
   "source": [
    "- 採用市值加權，權重過度集中於台積電\n",
    "- 採用等權重加權，無法凸顯投資組合的特色\n",
    "- 因此最後採用MSCI ESG Score加權"
   ]
  },
  {
   "cell_type": "markdown",
   "metadata": {},
   "source": [
    "## MSCI ESG Score 加權"
   ]
  },
  {
   "cell_type": "code",
   "execution_count": 80,
   "metadata": {},
   "outputs": [],
   "source": [
    "df['年'] = df['年月'].str[0:4]\n",
    "df[\"MSCI ESG Score\"] = df[\"MSCI ESG Score\"].map({6:12, 5:7.5, 4:4, 3:2, 2:1})\n",
    "df.dropna()\n",
    "df[\"Weight\"] = (df.groupby([\"年\",\"證券代碼\"])[\"MSCI ESG Score\"].transform('sum'))/(df.groupby('年')['MSCI ESG Score'].transform('sum'))\n",
    "df.drop(['流通在外股數(千股)','市值(百萬元)'], axis=1, inplace=True)"
   ]
  },
  {
   "cell_type": "code",
   "execution_count": 81,
   "metadata": {},
   "outputs": [],
   "source": [
    "# pd.reset_option(\"display.max_rows\")"
   ]
  },
  {
   "cell_type": "markdown",
   "metadata": {},
   "source": [
    "## 報酬計算"
   ]
  },
  {
   "cell_type": "code",
   "execution_count": 82,
   "metadata": {},
   "outputs": [
    {
     "data": {
      "text/html": [
       "<div>\n",
       "<style scoped>\n",
       "    .dataframe tbody tr th:only-of-type {\n",
       "        vertical-align: middle;\n",
       "    }\n",
       "\n",
       "    .dataframe tbody tr th {\n",
       "        vertical-align: top;\n",
       "    }\n",
       "\n",
       "    .dataframe thead th {\n",
       "        text-align: right;\n",
       "    }\n",
       "</style>\n",
       "<table border=\"1\" class=\"dataframe\">\n",
       "  <thead>\n",
       "    <tr style=\"text-align: right;\">\n",
       "      <th></th>\n",
       "      <th>證券代碼</th>\n",
       "      <th>公司</th>\n",
       "      <th>年月</th>\n",
       "      <th>收盤價(元)_月</th>\n",
       "      <th>MSCI ESG Score</th>\n",
       "      <th>年</th>\n",
       "      <th>Weight</th>\n",
       "      <th>Return_M</th>\n",
       "    </tr>\n",
       "  </thead>\n",
       "  <tbody>\n",
       "    <tr>\n",
       "      <th>9</th>\n",
       "      <td>2002</td>\n",
       "      <td>中鋼</td>\n",
       "      <td>201702</td>\n",
       "      <td>22.53</td>\n",
       "      <td>4.0</td>\n",
       "      <td>2017</td>\n",
       "      <td>0.125000</td>\n",
       "      <td>0.019457</td>\n",
       "    </tr>\n",
       "    <tr>\n",
       "      <th>10</th>\n",
       "      <td>2301</td>\n",
       "      <td>光寶科</td>\n",
       "      <td>201702</td>\n",
       "      <td>39.53</td>\n",
       "      <td>4.0</td>\n",
       "      <td>2017</td>\n",
       "      <td>0.125000</td>\n",
       "      <td>0.091085</td>\n",
       "    </tr>\n",
       "    <tr>\n",
       "      <th>11</th>\n",
       "      <td>2308</td>\n",
       "      <td>台達電</td>\n",
       "      <td>201702</td>\n",
       "      <td>148.84</td>\n",
       "      <td>4.0</td>\n",
       "      <td>2017</td>\n",
       "      <td>0.125000</td>\n",
       "      <td>-0.017233</td>\n",
       "    </tr>\n",
       "    <tr>\n",
       "      <th>13</th>\n",
       "      <td>2330</td>\n",
       "      <td>台積電</td>\n",
       "      <td>201702</td>\n",
       "      <td>162.97</td>\n",
       "      <td>12.0</td>\n",
       "      <td>2017</td>\n",
       "      <td>0.375000</td>\n",
       "      <td>0.018881</td>\n",
       "    </tr>\n",
       "    <tr>\n",
       "      <th>15</th>\n",
       "      <td>2382</td>\n",
       "      <td>廣達</td>\n",
       "      <td>201702</td>\n",
       "      <td>51.37</td>\n",
       "      <td>2.0</td>\n",
       "      <td>2017</td>\n",
       "      <td>0.062500</td>\n",
       "      <td>0.001560</td>\n",
       "    </tr>\n",
       "    <tr>\n",
       "      <th>...</th>\n",
       "      <td>...</td>\n",
       "      <td>...</td>\n",
       "      <td>...</td>\n",
       "      <td>...</td>\n",
       "      <td>...</td>\n",
       "      <td>...</td>\n",
       "      <td>...</td>\n",
       "      <td>...</td>\n",
       "    </tr>\n",
       "    <tr>\n",
       "      <th>462</th>\n",
       "      <td>2357</td>\n",
       "      <td>華碩</td>\n",
       "      <td>202012</td>\n",
       "      <td>250.50</td>\n",
       "      <td>4.0</td>\n",
       "      <td>2020</td>\n",
       "      <td>0.077670</td>\n",
       "      <td>0.006024</td>\n",
       "    </tr>\n",
       "    <tr>\n",
       "      <th>464</th>\n",
       "      <td>2382</td>\n",
       "      <td>廣達</td>\n",
       "      <td>202012</td>\n",
       "      <td>80.90</td>\n",
       "      <td>4.0</td>\n",
       "      <td>2020</td>\n",
       "      <td>0.077670</td>\n",
       "      <td>0.050649</td>\n",
       "    </tr>\n",
       "    <tr>\n",
       "      <th>465</th>\n",
       "      <td>3481</td>\n",
       "      <td>群創</td>\n",
       "      <td>202012</td>\n",
       "      <td>14.10</td>\n",
       "      <td>2.0</td>\n",
       "      <td>2020</td>\n",
       "      <td>0.038835</td>\n",
       "      <td>0.402985</td>\n",
       "    </tr>\n",
       "    <tr>\n",
       "      <th>466</th>\n",
       "      <td>3711</td>\n",
       "      <td>日月光投控</td>\n",
       "      <td>202012</td>\n",
       "      <td>81.30</td>\n",
       "      <td>7.5</td>\n",
       "      <td>2020</td>\n",
       "      <td>0.145631</td>\n",
       "      <td>0.061358</td>\n",
       "    </tr>\n",
       "    <tr>\n",
       "      <th>467</th>\n",
       "      <td>4938</td>\n",
       "      <td>和碩</td>\n",
       "      <td>202012</td>\n",
       "      <td>67.30</td>\n",
       "      <td>2.0</td>\n",
       "      <td>2020</td>\n",
       "      <td>0.038835</td>\n",
       "      <td>0.030628</td>\n",
       "    </tr>\n",
       "  </tbody>\n",
       "</table>\n",
       "<p>399 rows × 8 columns</p>\n",
       "</div>"
      ],
      "text/plain": [
       "     證券代碼     公司      年月  收盤價(元)_月  MSCI ESG Score     年    Weight  Return_M\n",
       "9    2002     中鋼  201702     22.53             4.0  2017  0.125000  0.019457\n",
       "10   2301    光寶科  201702     39.53             4.0  2017  0.125000  0.091085\n",
       "11   2308    台達電  201702    148.84             4.0  2017  0.125000 -0.017233\n",
       "13   2330    台積電  201702    162.97            12.0  2017  0.375000  0.018881\n",
       "15   2382     廣達  201702     51.37             2.0  2017  0.062500  0.001560\n",
       "..    ...    ...     ...       ...             ...   ...       ...       ...\n",
       "462  2357     華碩  202012    250.50             4.0  2020  0.077670  0.006024\n",
       "464  2382     廣達  202012     80.90             4.0  2020  0.077670  0.050649\n",
       "465  3481     群創  202012     14.10             2.0  2020  0.038835  0.402985\n",
       "466  3711  日月光投控  202012     81.30             7.5  2020  0.145631  0.061358\n",
       "467  4938     和碩  202012     67.30             2.0  2020  0.038835  0.030628\n",
       "\n",
       "[399 rows x 8 columns]"
      ]
     },
     "execution_count": 82,
     "metadata": {},
     "output_type": "execute_result"
    }
   ],
   "source": [
    "df['Return_M'] = df.groupby('證券代碼')['收盤價(元)_月'].pct_change()\n",
    "df.dropna()"
   ]
  },
  {
   "cell_type": "code",
   "execution_count": 83,
   "metadata": {},
   "outputs": [],
   "source": [
    "df['WeightxReturn'] = df['Return_M']*df['Weight']"
   ]
  },
  {
   "cell_type": "code",
   "execution_count": 84,
   "metadata": {},
   "outputs": [],
   "source": [
    "Port_return = df.groupby('年月')['WeightxReturn'].sum()"
   ]
  },
  {
   "cell_type": "code",
   "execution_count": 85,
   "metadata": {},
   "outputs": [
    {
     "data": {
      "text/plain": [
       "年月\n",
       "201701    0.000000\n",
       "201702    0.016820\n",
       "201703   -0.001044\n",
       "201704    0.027468\n",
       "201705    0.015998\n",
       "201706    0.047902\n",
       "201707    0.008146\n",
       "201708    0.004484\n",
       "201709   -0.028846\n",
       "201710    0.026744\n",
       "201711   -0.067589\n",
       "201712    0.023314\n",
       "201801    0.060812\n",
       "201802   -0.040800\n",
       "201803   -0.015014\n",
       "201804   -0.089340\n",
       "201805    0.000634\n",
       "201806   -0.017480\n",
       "201807    0.091060\n",
       "201808    0.033754\n",
       "201809    0.016085\n",
       "201810   -0.079302\n",
       "201811    0.018380\n",
       "201812   -0.002135\n",
       "201901    0.052683\n",
       "201902    0.029334\n",
       "201903    0.022888\n",
       "201904    0.029207\n",
       "201905   -0.090336\n",
       "201906    0.038575\n",
       "201907    0.048520\n",
       "201908    0.016642\n",
       "201909   -0.008104\n",
       "201910    0.059112\n",
       "201911    0.022945\n",
       "201912    0.065458\n",
       "202001   -0.044804\n",
       "202002   -0.034548\n",
       "202003   -0.118744\n",
       "202004    0.115666\n",
       "202005   -0.012886\n",
       "202006    0.094130\n",
       "202007    0.155521\n",
       "202008   -0.028353\n",
       "202009    0.005238\n",
       "202010    0.004719\n",
       "202011    0.109361\n",
       "202012    0.094655\n",
       "Name: WeightxReturn, dtype: float64"
      ]
     },
     "execution_count": 85,
     "metadata": {},
     "output_type": "execute_result"
    }
   ],
   "source": [
    "Port_return"
   ]
  },
  {
   "cell_type": "markdown",
   "metadata": {},
   "source": [
    "# 基金比較"
   ]
  },
  {
   "cell_type": "markdown",
   "metadata": {},
   "source": [
    "## 0050 元大台灣50"
   ]
  },
  {
   "cell_type": "code",
   "execution_count": 86,
   "metadata": {},
   "outputs": [],
   "source": [
    "df_0050 = pd.read_excel(\"Fund.xlsx\", sheet_name = \"0050\", header=0,engine='openpyxl')"
   ]
  },
  {
   "cell_type": "code",
   "execution_count": 87,
   "metadata": {},
   "outputs": [],
   "source": [
    "df_0050['年月日'] = df_0050['年月日'].astype('str')\n",
    "df_0050['年月日'] = df_0050['年月日'].str.replace('-','')\n",
    "df_0050['年月日'] = df_0050['年月日'].str[0:6]\n",
    "df_0050.set_index(\"年月日\", inplace = True)"
   ]
  },
  {
   "cell_type": "code",
   "execution_count": 88,
   "metadata": {},
   "outputs": [],
   "source": [
    "df_0050['Return_M'] = df_0050['淨值(元)'].pct_change()"
   ]
  },
  {
   "cell_type": "code",
   "execution_count": 89,
   "metadata": {},
   "outputs": [],
   "source": [
    "df_0050['Return_M_Cum'] = ( df_0050['Return_M']+1).cumprod()\n",
    "df_0050.iloc[0,2] = 1"
   ]
  },
  {
   "cell_type": "code",
   "execution_count": 90,
   "metadata": {},
   "outputs": [],
   "source": [
    "returns1 = pd.DataFrame(columns=[\"Port_return\",\"0050\"], index = Port_return.index)\n",
    "returns1['Port_return'] = Port_return \n",
    "returns1['0050'] = df_0050['Return_M_Cum']\n",
    "returns1['Port_return_Cum'] =  ( returns1['Port_return']+1).cumprod()\n",
    "# returns1.drop(['Port_return'], axis=1, inplace=True)\n"
   ]
  },
  {
   "cell_type": "code",
   "execution_count": 91,
   "metadata": {},
   "outputs": [
    {
     "data": {
      "text/plain": [
       "(array([0.8, 1. , 1.2, 1.4, 1.6, 1.8, 2. ]),\n",
       " [Text(0, 0, ''),\n",
       "  Text(0, 0, ''),\n",
       "  Text(0, 0, ''),\n",
       "  Text(0, 0, ''),\n",
       "  Text(0, 0, ''),\n",
       "  Text(0, 0, ''),\n",
       "  Text(0, 0, '')])"
      ]
     },
     "execution_count": 91,
     "metadata": {},
     "output_type": "execute_result"
    },
    {
     "data": {
      "image/png": "[encoded data removed]",
      "text/plain": [
       "<Figure size 1080x504 with 1 Axes>"
      ]
     },
     "metadata": {
      "needs_background": "light"
     },
     "output_type": "display_data"
    }
   ],
   "source": [
    "fig, ax = plt.subplots(figsize=(15,7))\n",
    "\n",
    "plt.plot(returns1['Port_return_Cum'],label='Portfolio', linewidth=3)\n",
    "plt.plot(returns1['0050'],label='0050' , linewidth=3)\n",
    "\n",
    "\n",
    "ax.xaxis.set_major_locator(ticker.MultipleLocator(12))\n",
    "\n",
    "plt.title('Portfolio V.S 0050',size = 18, color = 'mediumseagreen')\n",
    "plt.xlabel('Date', fontsize=16, color = \"mediumseagreen\")\n",
    "plt.ylabel('Cumulated Return', fontsize=16, color= \"mediumseagreen\")\n",
    "plt.grid(True)\n",
    "plt.legend(fontsize=\"x-large\")\n",
    "plt.xticks(fontsize=14 )\n",
    "plt.yticks(fontsize=14 )\n",
    "# plt.savefig(\"0050.png\",dpi=150)"
   ]
  },
  {
   "cell_type": "code",
   "execution_count": 92,
   "metadata": {},
   "outputs": [],
   "source": [
    "Geo_a_return = (returns1['Port_return_Cum']['202012'])**(12/len(returns1))-1\n",
    "Geo_a_return_0050 = (returns1['0050']['202012'])**(12/len(returns1))-1\n",
    "\n",
    "STD_return  = Port_return.std()*np.sqrt(12)\n",
    "STD_return_0050   = df_0050['Return_M'].std()*np.sqrt(12)\n",
    "\n",
    "Sharpe = Geo_a_return / STD_return \n",
    "Sharpe_0050 = Geo_a_return_0050 / STD_return_0050 \n",
    "\n",
    "#計算MDD\n",
    "D = returns1['Port_return_Cum'].cummax() - returns1['Port_return_Cum']\n",
    "MDD = D.max()*1\n",
    "d = D / (D + returns1['Port_return_Cum'])\n",
    "mdd = d.max()\n",
    "\n",
    "D = returns1['0050'].cummax() - returns1['0050']\n",
    "MDD = D.max()*1\n",
    "d = D / (D + returns1['0050'])\n",
    "mdd_0050 = d.max()\n",
    "\n",
    "#投組勝率\n",
    "Odd =sum(Port_return>0)/len(returns1)\n",
    "\n",
    "Odd_0050 =sum(df_0050['Return_M']>0)/len(returns1)"
   ]
  },
  {
   "cell_type": "code",
   "execution_count": 93,
   "metadata": {},
   "outputs": [],
   "source": [
    "df_performance=pd.DataFrame([\n",
    "                  [Geo_a_return,STD_return ,Sharpe,mdd,Odd ],\n",
    "                  [Geo_a_return_0050,STD_return_0050 ,Sharpe_0050,mdd_0050,Odd_0050 ],\n",
    "                 ])"
   ]
  },
  {
   "cell_type": "code",
   "execution_count": 94,
   "metadata": {},
   "outputs": [],
   "source": [
    "df_performance.columns = [ 'ER','STD','Sharpe','Mdd','Odd' ]\n",
    "df_performance.index =  ['Portfolio','0050']"
   ]
  },
  {
   "cell_type": "code",
   "execution_count": 95,
   "metadata": {},
   "outputs": [
    {
     "data": {
      "text/html": [
       "<div>\n",
       "<style scoped>\n",
       "    .dataframe tbody tr th:only-of-type {\n",
       "        vertical-align: middle;\n",
       "    }\n",
       "\n",
       "    .dataframe tbody tr th {\n",
       "        vertical-align: top;\n",
       "    }\n",
       "\n",
       "    .dataframe thead th {\n",
       "        text-align: right;\n",
       "    }\n",
       "</style>\n",
       "<table border=\"1\" class=\"dataframe\">\n",
       "  <thead>\n",
       "    <tr style=\"text-align: right;\">\n",
       "      <th></th>\n",
       "      <th>ER</th>\n",
       "      <th>STD</th>\n",
       "      <th>Sharpe</th>\n",
       "      <th>Mdd</th>\n",
       "      <th>Odd</th>\n",
       "    </tr>\n",
       "  </thead>\n",
       "  <tbody>\n",
       "    <tr>\n",
       "      <th>Portfolio</th>\n",
       "      <td>0.16</td>\n",
       "      <td>0.19</td>\n",
       "      <td>0.85</td>\n",
       "      <td>0.19</td>\n",
       "      <td>0.65</td>\n",
       "    </tr>\n",
       "    <tr>\n",
       "      <th>0050</th>\n",
       "      <td>0.14</td>\n",
       "      <td>0.18</td>\n",
       "      <td>0.77</td>\n",
       "      <td>0.21</td>\n",
       "      <td>0.65</td>\n",
       "    </tr>\n",
       "  </tbody>\n",
       "</table>\n",
       "</div>"
      ],
      "text/plain": [
       "             ER   STD  Sharpe   Mdd   Odd\n",
       "Portfolio  0.16  0.19    0.85  0.19  0.65\n",
       "0050       0.14  0.18    0.77  0.21  0.65"
      ]
     },
     "execution_count": 95,
     "metadata": {},
     "output_type": "execute_result"
    }
   ],
   "source": [
    "df_performance.round(2)\n",
    "# dfi.export(df_performance.round(2), '0050_table.png')"
   ]
  },
  {
   "cell_type": "markdown",
   "metadata": {},
   "source": [
    "## 00850 元大臺灣ESG永續"
   ]
  },
  {
   "cell_type": "code",
   "execution_count": 96,
   "metadata": {},
   "outputs": [],
   "source": [
    "df_00850 = pd.read_excel(\"Fund.xlsx\", sheet_name = \"00850\", header=0,engine='openpyxl')"
   ]
  },
  {
   "cell_type": "code",
   "execution_count": 97,
   "metadata": {},
   "outputs": [],
   "source": [
    "df_00850['年月日'] = df_00850['年月日'].astype('str')\n",
    "df_00850['年月日'] = df_00850['年月日'].str.replace('-','')\n",
    "df_00850['年月日'] = df_00850['年月日'].str[0:6]\n",
    "df_00850.set_index(\"年月日\", inplace = True)"
   ]
  },
  {
   "cell_type": "code",
   "execution_count": 98,
   "metadata": {},
   "outputs": [],
   "source": [
    "df_00850['Return_M'] = df_00850['淨值(元)'].pct_change()"
   ]
  },
  {
   "cell_type": "code",
   "execution_count": 99,
   "metadata": {},
   "outputs": [],
   "source": [
    "df_00850['Return_M_Cum'] = ( df_00850['Return_M']+1).cumprod()\n",
    "df_00850.iloc[0,2] = 1"
   ]
  },
  {
   "cell_type": "code",
   "execution_count": 100,
   "metadata": {},
   "outputs": [],
   "source": [
    "df2 = df[df[\"年月\"]>=\"201908\"]\n",
    "df2['Return_M'] = df2.groupby('證券代碼')['收盤價(元)_月'].pct_change()\n",
    "df2.dropna()\n",
    "df2['WeightxReturn'] = df2['Return_M']*df2['Weight']\n",
    "Port_return2 = df2.groupby('年月')['WeightxReturn'].sum()"
   ]
  },
  {
   "cell_type": "code",
   "execution_count": 101,
   "metadata": {},
   "outputs": [],
   "source": [
    "returns2 = pd.DataFrame(columns=[\"Port_return\",\"00850\"], index = Port_return2.index)\n",
    "returns2['Port_return'] = Port_return2\n",
    "returns2['00850'] = df_00850['Return_M_Cum']\n",
    "returns2['Port_return_Cum'] =  ( returns2['Port_return']+1).cumprod()\n",
    "# returns2.drop(['Port_return'], axis=1, inplace=True)"
   ]
  },
  {
   "cell_type": "code",
   "execution_count": 102,
   "metadata": {},
   "outputs": [
    {
     "data": {
      "text/plain": [
       "(array([0.8, 0.9, 1. , 1.1, 1.2, 1.3, 1.4, 1.5, 1.6]),\n",
       " [Text(0, 0, ''),\n",
       "  Text(0, 0, ''),\n",
       "  Text(0, 0, ''),\n",
       "  Text(0, 0, ''),\n",
       "  Text(0, 0, ''),\n",
       "  Text(0, 0, ''),\n",
       "  Text(0, 0, ''),\n",
       "  Text(0, 0, ''),\n",
       "  Text(0, 0, '')])"
      ]
     },
     "execution_count": 102,
     "metadata": {},
     "output_type": "execute_result"
    },
    {
     "data": {
      "image/png": "[encoded data removed]",
      "text/plain": [
       "<Figure size 1080x504 with 1 Axes>"
      ]
     },
     "metadata": {
      "needs_background": "light"
     },
     "output_type": "display_data"
    }
   ],
   "source": [
    "fig, ax = plt.subplots(figsize=(15,7))\n",
    "\n",
    "plt.plot(returns2['Port_return_Cum'],label='Portfolio', linewidth=3)\n",
    "plt.plot(returns2['00850'],label='00850' , linewidth=3)\n",
    "\n",
    "\n",
    "ax.xaxis.set_major_locator(ticker.MultipleLocator(12))\n",
    "\n",
    "plt.title('Portfolio V.S 00850',size = 18, color = 'mediumseagreen')\n",
    "plt.xlabel('Date', fontsize=16, color = \"mediumseagreen\")\n",
    "plt.ylabel('Cumulated Return', fontsize=16, color= \"mediumseagreen\")\n",
    "plt.grid(True)\n",
    "plt.legend(fontsize=\"x-large\")\n",
    "plt.xticks(fontsize=14 )\n",
    "plt.yticks(fontsize=14 )\n",
    "# plt.savefig(\"00850.png\",dpi=150)"
   ]
  },
  {
   "cell_type": "code",
   "execution_count": 103,
   "metadata": {},
   "outputs": [],
   "source": [
    "Geo_a_return = (returns2['Port_return_Cum']['202012'])**(12/len(returns2))-1\n",
    "Geo_a_return_00850 = (returns2['00850']['202012'])**(12/len(returns2))-1\n",
    "\n",
    "STD_return  = Port_return2.std()*np.sqrt(12)\n",
    "STD_return_00850   = df_00850['Return_M'].std()*np.sqrt(12)\n",
    "\n",
    "Sharpe = Geo_a_return / STD_return \n",
    "Sharpe_00850 = Geo_a_return_00850 / STD_return_00850 \n",
    "\n",
    "#計算MDD\n",
    "D = returns2['Port_return_Cum'].cummax() - returns2['Port_return_Cum']\n",
    "MDD = D.max()*1\n",
    "d = D / (D + returns2['Port_return_Cum'])\n",
    "mdd = d.max()\n",
    "\n",
    "D = returns2['00850'].cummax() - returns2['00850']\n",
    "MDD = D.max()*1\n",
    "d = D / (D + returns2['00850'])\n",
    "mdd_00850 = d.max()\n",
    "\n",
    "#投組勝率\n",
    "Odd =sum(Port_return2>0)/len(returns2)\n",
    "Odd_00850 =sum(df_00850['Return_M']>0)/len(returns2)"
   ]
  },
  {
   "cell_type": "code",
   "execution_count": 104,
   "metadata": {},
   "outputs": [],
   "source": [
    "df_performance=pd.DataFrame([\n",
    "                  [Geo_a_return,STD_return ,Sharpe,mdd,Odd ],\n",
    "                  [Geo_a_return_00850,STD_return_00850 ,Sharpe_00850,mdd_00850,Odd_0050 ],\n",
    "                 ])\n",
    "df_performance.columns = [ 'ER','STD','Sharpe','Mdd','Odd' ]\n",
    "df_performance.index =  ['Portfolio','00850']"
   ]
  },
  {
   "cell_type": "code",
   "execution_count": 105,
   "metadata": {},
   "outputs": [],
   "source": [
    "# df_performance.round(2)\n",
    "# dfi.export(df_performance.round(2), '00850_table.png')"
   ]
  },
  {
   "cell_type": "markdown",
   "metadata": {},
   "source": [
    "## 00878 國泰永續高股息"
   ]
  },
  {
   "cell_type": "code",
   "execution_count": 106,
   "metadata": {},
   "outputs": [],
   "source": [
    "df_00878 = pd.read_excel(\"Fund.xlsx\", sheet_name = \"00878\", header=0,engine='openpyxl')"
   ]
  },
  {
   "cell_type": "code",
   "execution_count": 107,
   "metadata": {},
   "outputs": [],
   "source": [
    "df_00878['年月日'] = df_00878['年月日'].astype('str')\n",
    "df_00878['年月日'] = df_00878['年月日'].str.replace('-','')\n",
    "df_00878['年月日'] = df_00878['年月日'].str[0:6]\n",
    "df_00878.set_index(\"年月日\", inplace = True)"
   ]
  },
  {
   "cell_type": "code",
   "execution_count": 108,
   "metadata": {},
   "outputs": [],
   "source": [
    "df_00878['Return_M'] = df_00878['淨值(元)'].pct_change()"
   ]
  },
  {
   "cell_type": "code",
   "execution_count": 109,
   "metadata": {},
   "outputs": [],
   "source": [
    "df_00878['Return_M_Cum'] = ( df_00878['Return_M']+1).cumprod()\n",
    "df_00878.iloc[0,2] = 1"
   ]
  },
  {
   "cell_type": "code",
   "execution_count": 110,
   "metadata": {},
   "outputs": [],
   "source": [
    "df3 = df[df[\"年月\"]>=\"202007\"]\n",
    "df3['Return_M'] = df3.groupby('證券代碼')['收盤價(元)_月'].pct_change()\n",
    "df3.dropna()\n",
    "df3['WeightxReturn'] = df3['Return_M']*df3['Weight']\n",
    "Port_return3 = df3.groupby('年月')['WeightxReturn'].sum()"
   ]
  },
  {
   "cell_type": "code",
   "execution_count": 111,
   "metadata": {},
   "outputs": [],
   "source": [
    "returns3 = pd.DataFrame(columns=[\"Port_return\"], index = Port_return3.index)\n",
    "returns3['Port_return'] = Port_return3\n",
    "returns3['00878'] = df_00878['Return_M_Cum']\n",
    "returns3['Port_return_Cum'] =  ( returns3['Port_return']+1).cumprod()\n",
    "# returns3.drop(['Port_return'], axis=1, inplace=True)"
   ]
  },
  {
   "cell_type": "code",
   "execution_count": 112,
   "metadata": {},
   "outputs": [
    {
     "data": {
      "text/plain": [
       "(array([0.9 , 0.95, 1.  , 1.05, 1.1 , 1.15, 1.2 , 1.25]),\n",
       " [Text(0, 0, ''),\n",
       "  Text(0, 0, ''),\n",
       "  Text(0, 0, ''),\n",
       "  Text(0, 0, ''),\n",
       "  Text(0, 0, ''),\n",
       "  Text(0, 0, ''),\n",
       "  Text(0, 0, ''),\n",
       "  Text(0, 0, '')])"
      ]
     },
     "execution_count": 112,
     "metadata": {},
     "output_type": "execute_result"
    },
    {
     "data": {
      "image/png": "[encoded data removed]",
      "text/plain": [
       "<Figure size 1080x504 with 1 Axes>"
      ]
     },
     "metadata": {
      "needs_background": "light"
     },
     "output_type": "display_data"
    }
   ],
   "source": [
    "fig, ax = plt.subplots(figsize=(15,7))\n",
    "\n",
    "\n",
    "plt.plot(returns3['Port_return_Cum'],label='Portfolio', linewidth=3)\n",
    "plt.plot(returns3['00878'],label='00878' , linewidth=3)\n",
    "\n",
    "\n",
    "ax.xaxis.set_major_locator(ticker.MultipleLocator(6))\n",
    "\n",
    "plt.title('Portfolio V.S 00878',size = 18, color = 'mediumseagreen')\n",
    "plt.xlabel('Date', fontsize=16, color = \"mediumseagreen\")\n",
    "plt.ylabel('Cumulated Return', fontsize=16, color= \"mediumseagreen\")\n",
    "plt.grid(True)\n",
    "plt.legend(fontsize=\"x-large\")\n",
    "plt.xticks(fontsize=14 )\n",
    "plt.yticks(fontsize=14 )\n",
    "# plt.savefig(\"00878.png\",dpi=150)"
   ]
  },
  {
   "cell_type": "code",
   "execution_count": 113,
   "metadata": {},
   "outputs": [],
   "source": [
    "Geo_a_return = (returns3['Port_return_Cum']['202012'])**(12/len(returns3))-1\n",
    "Geo_a_return_00878 = (returns3['00878']['202012'])**(12/len(returns3))-1\n",
    "\n",
    "STD_return  = Port_return3.std()*np.sqrt(12)\n",
    "STD_return_00878   = df_00878['Return_M'].std()*np.sqrt(12)\n",
    "\n",
    "Sharpe = Geo_a_return / STD_return \n",
    "Sharpe_00878 = Geo_a_return_00878 / STD_return_00878 \n",
    "\n",
    "#計算MDD\n",
    "D = returns3['Port_return_Cum'].cummax() - returns3['Port_return_Cum']\n",
    "MDD = D.max()*1\n",
    "d = D / (D + returns3['Port_return_Cum'])\n",
    "mdd = d.max()\n",
    "\n",
    "D = returns3['00878'].cummax() - returns3['00878']\n",
    "MDD = D.max()*1\n",
    "d = D / (D + returns3['00878'])\n",
    "mdd_00878 = d.max()\n",
    "\n",
    "#投組勝率\n",
    "Odd =sum(Port_return3>0)/len(returns3)\n",
    "Odd_00878 =sum(df_00878['Return_M']>0)/len(returns3)"
   ]
  },
  {
   "cell_type": "code",
   "execution_count": 114,
   "metadata": {},
   "outputs": [],
   "source": [
    "df_performance=pd.DataFrame([\n",
    "                  [Geo_a_return,STD_return ,Sharpe,mdd,Odd ],\n",
    "                  [Geo_a_return_00878,STD_return_00878 ,Sharpe_00878,mdd_00878,Odd_00878 ],\n",
    "                 ])\n",
    "df_performance.columns = [ 'ER','STD','Sharpe','Mdd','Odd' ]\n",
    "df_performance.index =  ['Portfolio','00878']"
   ]
  },
  {
   "cell_type": "code",
   "execution_count": 115,
   "metadata": {},
   "outputs": [
    {
     "data": {
      "text/html": [
       "<div>\n",
       "<style scoped>\n",
       "    .dataframe tbody tr th:only-of-type {\n",
       "        vertical-align: middle;\n",
       "    }\n",
       "\n",
       "    .dataframe tbody tr th {\n",
       "        vertical-align: top;\n",
       "    }\n",
       "\n",
       "    .dataframe thead th {\n",
       "        text-align: right;\n",
       "    }\n",
       "</style>\n",
       "<table border=\"1\" class=\"dataframe\">\n",
       "  <thead>\n",
       "    <tr style=\"text-align: right;\">\n",
       "      <th></th>\n",
       "      <th>ER</th>\n",
       "      <th>STD</th>\n",
       "      <th>Sharpe</th>\n",
       "      <th>Mdd</th>\n",
       "      <th>Odd</th>\n",
       "    </tr>\n",
       "  </thead>\n",
       "  <tbody>\n",
       "    <tr>\n",
       "      <th>Portfolio</th>\n",
       "      <td>0.42</td>\n",
       "      <td>0.20</td>\n",
       "      <td>2.14</td>\n",
       "      <td>0.03</td>\n",
       "      <td>0.67</td>\n",
       "    </tr>\n",
       "    <tr>\n",
       "      <th>00878</th>\n",
       "      <td>0.17</td>\n",
       "      <td>0.14</td>\n",
       "      <td>1.19</td>\n",
       "      <td>0.04</td>\n",
       "      <td>0.33</td>\n",
       "    </tr>\n",
       "  </tbody>\n",
       "</table>\n",
       "</div>"
      ],
      "text/plain": [
       "             ER   STD  Sharpe   Mdd   Odd\n",
       "Portfolio  0.42  0.20    2.14  0.03  0.67\n",
       "00878      0.17  0.14    1.19  0.04  0.33"
      ]
     },
     "execution_count": 115,
     "metadata": {},
     "output_type": "execute_result"
    }
   ],
   "source": [
    "df_performance.round(2)\n",
    "# dfi.export(df_performance.round(2), '00878_table.png')"
   ]
  },
  {
   "cell_type": "markdown",
   "metadata": {},
   "source": [
    "## T4812A 合庫AI車聯網Aa"
   ]
  },
  {
   "cell_type": "code",
   "execution_count": 116,
   "metadata": {},
   "outputs": [],
   "source": [
    "df_T4812A = pd.read_excel(\"Fund.xlsx\", sheet_name = \"T4812A\", header=0,engine='openpyxl')"
   ]
  },
  {
   "cell_type": "code",
   "execution_count": 117,
   "metadata": {},
   "outputs": [],
   "source": [
    "df_T4812A['年月日'] = df_T4812A['年月日'].astype('str')\n",
    "df_T4812A['年月日'] = df_T4812A['年月日'].str.replace('-','')\n",
    "df_T4812A['年月日'] = df_T4812A['年月日'].str[0:6]\n",
    "df_T4812A.set_index(\"年月日\", inplace = True)"
   ]
  },
  {
   "cell_type": "code",
   "execution_count": 118,
   "metadata": {},
   "outputs": [],
   "source": [
    "df_T4812A['Return_M'] = df_T4812A['淨值(元)'].pct_change()"
   ]
  },
  {
   "cell_type": "code",
   "execution_count": 119,
   "metadata": {},
   "outputs": [
    {
     "data": {
      "text/html": [
       "<div>\n",
       "<style scoped>\n",
       "    .dataframe tbody tr th:only-of-type {\n",
       "        vertical-align: middle;\n",
       "    }\n",
       "\n",
       "    .dataframe tbody tr th {\n",
       "        vertical-align: top;\n",
       "    }\n",
       "\n",
       "    .dataframe thead th {\n",
       "        text-align: right;\n",
       "    }\n",
       "</style>\n",
       "<table border=\"1\" class=\"dataframe\">\n",
       "  <thead>\n",
       "    <tr style=\"text-align: right;\">\n",
       "      <th></th>\n",
       "      <th>淨值(元)</th>\n",
       "      <th>Return_M</th>\n",
       "      <th>Return_M_Cum</th>\n",
       "    </tr>\n",
       "    <tr>\n",
       "      <th>年月日</th>\n",
       "      <th></th>\n",
       "      <th></th>\n",
       "      <th></th>\n",
       "    </tr>\n",
       "  </thead>\n",
       "  <tbody>\n",
       "    <tr>\n",
       "      <th>201903</th>\n",
       "      <td>9.998962</td>\n",
       "      <td>NaN</td>\n",
       "      <td>1.000000</td>\n",
       "    </tr>\n",
       "    <tr>\n",
       "      <th>201904</th>\n",
       "      <td>10.459836</td>\n",
       "      <td>0.046092</td>\n",
       "      <td>1.046092</td>\n",
       "    </tr>\n",
       "    <tr>\n",
       "      <th>201905</th>\n",
       "      <td>9.207461</td>\n",
       "      <td>-0.119732</td>\n",
       "      <td>0.920842</td>\n",
       "    </tr>\n",
       "    <tr>\n",
       "      <th>201906</th>\n",
       "      <td>10.029019</td>\n",
       "      <td>0.089227</td>\n",
       "      <td>1.003006</td>\n",
       "    </tr>\n",
       "    <tr>\n",
       "      <th>201907</th>\n",
       "      <td>10.008981</td>\n",
       "      <td>-0.001998</td>\n",
       "      <td>1.001002</td>\n",
       "    </tr>\n",
       "    <tr>\n",
       "      <th>201908</th>\n",
       "      <td>9.598202</td>\n",
       "      <td>-0.041041</td>\n",
       "      <td>0.959920</td>\n",
       "    </tr>\n",
       "    <tr>\n",
       "      <th>201909</th>\n",
       "      <td>9.728449</td>\n",
       "      <td>0.013570</td>\n",
       "      <td>0.972946</td>\n",
       "    </tr>\n",
       "    <tr>\n",
       "      <th>201910</th>\n",
       "      <td>9.928829</td>\n",
       "      <td>0.020597</td>\n",
       "      <td>0.992986</td>\n",
       "    </tr>\n",
       "    <tr>\n",
       "      <th>201911</th>\n",
       "      <td>10.359646</td>\n",
       "      <td>0.043391</td>\n",
       "      <td>1.036072</td>\n",
       "    </tr>\n",
       "    <tr>\n",
       "      <th>201912</th>\n",
       "      <td>10.730349</td>\n",
       "      <td>0.035783</td>\n",
       "      <td>1.073146</td>\n",
       "    </tr>\n",
       "    <tr>\n",
       "      <th>202001</th>\n",
       "      <td>10.550007</td>\n",
       "      <td>-0.016807</td>\n",
       "      <td>1.055110</td>\n",
       "    </tr>\n",
       "    <tr>\n",
       "      <th>202002</th>\n",
       "      <td>9.928829</td>\n",
       "      <td>-0.058879</td>\n",
       "      <td>0.992986</td>\n",
       "    </tr>\n",
       "    <tr>\n",
       "      <th>202003</th>\n",
       "      <td>8.435998</td>\n",
       "      <td>-0.150353</td>\n",
       "      <td>0.843687</td>\n",
       "    </tr>\n",
       "    <tr>\n",
       "      <th>202004</th>\n",
       "      <td>9.548107</td>\n",
       "      <td>0.131829</td>\n",
       "      <td>0.954910</td>\n",
       "    </tr>\n",
       "    <tr>\n",
       "      <th>202005</th>\n",
       "      <td>10.550007</td>\n",
       "      <td>0.104932</td>\n",
       "      <td>1.055110</td>\n",
       "    </tr>\n",
       "    <tr>\n",
       "      <th>202006</th>\n",
       "      <td>10.980824</td>\n",
       "      <td>0.040836</td>\n",
       "      <td>1.098196</td>\n",
       "    </tr>\n",
       "    <tr>\n",
       "      <th>202007</th>\n",
       "      <td>11.692173</td>\n",
       "      <td>0.064781</td>\n",
       "      <td>1.169339</td>\n",
       "    </tr>\n",
       "    <tr>\n",
       "      <th>202008</th>\n",
       "      <td>12.423560</td>\n",
       "      <td>0.062554</td>\n",
       "      <td>1.242485</td>\n",
       "    </tr>\n",
       "    <tr>\n",
       "      <th>202009</th>\n",
       "      <td>11.882534</td>\n",
       "      <td>-0.043548</td>\n",
       "      <td>1.188377</td>\n",
       "    </tr>\n",
       "    <tr>\n",
       "      <th>202010</th>\n",
       "      <td>11.902572</td>\n",
       "      <td>0.001686</td>\n",
       "      <td>1.190381</td>\n",
       "    </tr>\n",
       "    <tr>\n",
       "      <th>202011</th>\n",
       "      <td>13.716011</td>\n",
       "      <td>0.152357</td>\n",
       "      <td>1.371743</td>\n",
       "    </tr>\n",
       "    <tr>\n",
       "      <th>202012</th>\n",
       "      <td>14.317151</td>\n",
       "      <td>0.043828</td>\n",
       "      <td>1.431864</td>\n",
       "    </tr>\n",
       "  </tbody>\n",
       "</table>\n",
       "</div>"
      ],
      "text/plain": [
       "            淨值(元)  Return_M  Return_M_Cum\n",
       "年月日                                      \n",
       "201903   9.998962       NaN      1.000000\n",
       "201904  10.459836  0.046092      1.046092\n",
       "201905   9.207461 -0.119732      0.920842\n",
       "201906  10.029019  0.089227      1.003006\n",
       "201907  10.008981 -0.001998      1.001002\n",
       "201908   9.598202 -0.041041      0.959920\n",
       "201909   9.728449  0.013570      0.972946\n",
       "201910   9.928829  0.020597      0.992986\n",
       "201911  10.359646  0.043391      1.036072\n",
       "201912  10.730349  0.035783      1.073146\n",
       "202001  10.550007 -0.016807      1.055110\n",
       "202002   9.928829 -0.058879      0.992986\n",
       "202003   8.435998 -0.150353      0.843687\n",
       "202004   9.548107  0.131829      0.954910\n",
       "202005  10.550007  0.104932      1.055110\n",
       "202006  10.980824  0.040836      1.098196\n",
       "202007  11.692173  0.064781      1.169339\n",
       "202008  12.423560  0.062554      1.242485\n",
       "202009  11.882534 -0.043548      1.188377\n",
       "202010  11.902572  0.001686      1.190381\n",
       "202011  13.716011  0.152357      1.371743\n",
       "202012  14.317151  0.043828      1.431864"
      ]
     },
     "execution_count": 119,
     "metadata": {},
     "output_type": "execute_result"
    }
   ],
   "source": [
    "df_T4812A['Return_M_Cum'] = ( df_T4812A['Return_M']+1).cumprod()\n",
    "df_T4812A.iloc[0, 2] = 1\n",
    "df_T4812A"
   ]
  },
  {
   "cell_type": "code",
   "execution_count": 120,
   "metadata": {},
   "outputs": [],
   "source": [
    "df4 = df[df[\"年月\"]>=\"201903\"]\n",
    "df4['Return_M'] = df4.groupby('證券代碼')['收盤價(元)_月'].pct_change()\n",
    "df4.dropna()\n",
    "df4['WeightxReturn'] = df4['Return_M']*df4['Weight']\n",
    "Port_return4 = df4.groupby('年月')['WeightxReturn'].sum()"
   ]
  },
  {
   "cell_type": "code",
   "execution_count": 121,
   "metadata": {},
   "outputs": [],
   "source": [
    "returns4 = pd.DataFrame(columns=[\"Port_return\",\"T4812A\"], index = Port_return4.index)\n",
    "returns4['Port_return'] = Port_return4\n",
    "returns4['T4812A'] = df_T4812A['Return_M_Cum']\n",
    "returns4['Port_return_Cum'] =  ( returns4['Port_return']+1).cumprod()\n",
    "# returns4.drop(['Port_return'], axis=1, inplace=True)"
   ]
  },
  {
   "cell_type": "code",
   "execution_count": 122,
   "metadata": {},
   "outputs": [
    {
     "data": {
      "text/plain": [
       "(array([0.8, 0.9, 1. , 1.1, 1.2, 1.3, 1.4, 1.5, 1.6, 1.7]),\n",
       " [Text(0, 0, ''),\n",
       "  Text(0, 0, ''),\n",
       "  Text(0, 0, ''),\n",
       "  Text(0, 0, ''),\n",
       "  Text(0, 0, ''),\n",
       "  Text(0, 0, ''),\n",
       "  Text(0, 0, ''),\n",
       "  Text(0, 0, ''),\n",
       "  Text(0, 0, ''),\n",
       "  Text(0, 0, '')])"
      ]
     },
     "execution_count": 122,
     "metadata": {},
     "output_type": "execute_result"
    },
    {
     "data": {
      "image/png": "[encoded data removed]",
      "text/plain": [
       "<Figure size 1080x504 with 1 Axes>"
      ]
     },
     "metadata": {
      "needs_background": "light"
     },
     "output_type": "display_data"
    }
   ],
   "source": [
    "fig, ax = plt.subplots(figsize=(15,7))\n",
    "\n",
    "plt.plot(returns4['Port_return_Cum'],label='Portfolio', linewidth=3)\n",
    "plt.plot(returns4['T4812A'],label='TCB AI Electric Vehicle' , linewidth=3)\n",
    "\n",
    "\n",
    "ax.xaxis.set_major_locator(ticker.MultipleLocator(6))\n",
    "\n",
    "plt.title('Portfolio V.S TCB AI Electric Vehicle',size = 18, color = 'mediumseagreen')\n",
    "plt.xlabel('Date', fontsize=16, color = \"mediumseagreen\")\n",
    "plt.ylabel('Cumulated Return', fontsize=16, color= \"mediumseagreen\")\n",
    "plt.grid(True)\n",
    "plt.legend(fontsize=\"x-large\")\n",
    "plt.xticks(fontsize=14 )\n",
    "plt.yticks(fontsize=14 )\n",
    "# plt.savefig(\"T4812A.png\",dpi=150)"
   ]
  },
  {
   "cell_type": "code",
   "execution_count": 123,
   "metadata": {},
   "outputs": [],
   "source": [
    "Geo_a_return = (returns4['Port_return_Cum']['202012'])**(12/len(returns4))-1\n",
    "Geo_a_return_T4812A = (returns4['T4812A']['202012'])**(12/len(returns4))-1\n",
    "\n",
    "STD_return  = Port_return4.std()*np.sqrt(12)\n",
    "STD_return_T4812A  = df_T4812A['Return_M'].std()*np.sqrt(12)\n",
    "\n",
    "Sharpe = Geo_a_return / STD_return \n",
    "Sharpe_T4812A = Geo_a_return_T4812A / STD_return_T4812A \n",
    "\n",
    "#計算MDD\n",
    "D = returns4['Port_return_Cum'].cummax() - returns4['Port_return_Cum']\n",
    "MDD = D.max()*1\n",
    "d = D / (D + returns4['Port_return_Cum'])\n",
    "mdd = d.max()\n",
    "\n",
    "D = returns4['T4812A'].cummax() - returns4['T4812A']\n",
    "MDD = D.max()*1\n",
    "d = D / (D + returns4['T4812A'])\n",
    "mdd_T4812A = d.max()\n",
    "\n",
    "#投組勝率\n",
    "Odd =sum(Port_return4>0)/len(returns4)\n",
    "Odd_T4812A =sum(df_T4812A['Return_M']>0)/len(returns4)"
   ]
  },
  {
   "cell_type": "code",
   "execution_count": 124,
   "metadata": {},
   "outputs": [],
   "source": [
    "df_performance=pd.DataFrame([\n",
    "                  [Geo_a_return,STD_return ,Sharpe,mdd,Odd ],\n",
    "                  [Geo_a_return_T4812A,STD_return_T4812A ,Sharpe_T4812A,mdd_T4812A,Odd_T4812A ],\n",
    "                 ])\n",
    "df_performance.columns = [ 'ER','STD','Sharpe','Mdd','Odd' ]\n",
    "df_performance.index =  ['Portfolio','T4812A']"
   ]
  },
  {
   "cell_type": "code",
   "execution_count": 125,
   "metadata": {},
   "outputs": [
    {
     "data": {
      "text/html": [
       "<div>\n",
       "<style scoped>\n",
       "    .dataframe tbody tr th:only-of-type {\n",
       "        vertical-align: middle;\n",
       "    }\n",
       "\n",
       "    .dataframe tbody tr th {\n",
       "        vertical-align: top;\n",
       "    }\n",
       "\n",
       "    .dataframe thead th {\n",
       "        text-align: right;\n",
       "    }\n",
       "</style>\n",
       "<table border=\"1\" class=\"dataframe\">\n",
       "  <thead>\n",
       "    <tr style=\"text-align: right;\">\n",
       "      <th></th>\n",
       "      <th>ER</th>\n",
       "      <th>STD</th>\n",
       "      <th>Sharpe</th>\n",
       "      <th>Mdd</th>\n",
       "      <th>Odd</th>\n",
       "    </tr>\n",
       "  </thead>\n",
       "  <tbody>\n",
       "    <tr>\n",
       "      <th>Portfolio</th>\n",
       "      <td>0.29</td>\n",
       "      <td>0.23</td>\n",
       "      <td>1.26</td>\n",
       "      <td>0.19</td>\n",
       "      <td>0.64</td>\n",
       "    </tr>\n",
       "    <tr>\n",
       "      <th>T4812A</th>\n",
       "      <td>0.22</td>\n",
       "      <td>0.26</td>\n",
       "      <td>0.83</td>\n",
       "      <td>0.21</td>\n",
       "      <td>0.64</td>\n",
       "    </tr>\n",
       "  </tbody>\n",
       "</table>\n",
       "</div>"
      ],
      "text/plain": [
       "             ER   STD  Sharpe   Mdd   Odd\n",
       "Portfolio  0.29  0.23    1.26  0.19  0.64\n",
       "T4812A     0.22  0.26    0.83  0.21  0.64"
      ]
     },
     "execution_count": 125,
     "metadata": {},
     "output_type": "execute_result"
    }
   ],
   "source": [
    "df_performance.round(2)\n",
    "# dfi.export(df_performance.round(2), 'T4812A_table.png')"
   ]
  },
  {
   "cell_type": "markdown",
   "metadata": {},
   "source": [
    "# 大盤比較"
   ]
  },
  {
   "cell_type": "code",
   "execution_count": 126,
   "metadata": {},
   "outputs": [],
   "source": [
    "TAIEX = pd.read_excel(\"TAIEX.xlsx\", header=0,engine='openpyxl')"
   ]
  },
  {
   "cell_type": "code",
   "execution_count": 127,
   "metadata": {},
   "outputs": [],
   "source": [
    "TAIEX['年月'] = TAIEX['年月'].astype('str')\n",
    "TAIEX['年月'] = TAIEX['年月'].str.replace('-','')\n",
    "TAIEX['年月'] = TAIEX['年月'].str[0:6]"
   ]
  },
  {
   "cell_type": "code",
   "execution_count": 128,
   "metadata": {},
   "outputs": [],
   "source": [
    "TAIEX.set_index(\"年月\", inplace = True)"
   ]
  },
  {
   "cell_type": "code",
   "execution_count": 129,
   "metadata": {},
   "outputs": [],
   "source": [
    "TAIEX['Return_M'] = TAIEX['收盤價(元)_月'].pct_change()\n",
    "TAIEX['Return_M_Cum'] = ( TAIEX['Return_M']+1).cumprod()\n",
    "TAIEX.iloc[0,2] = 1"
   ]
  },
  {
   "cell_type": "code",
   "execution_count": 130,
   "metadata": {},
   "outputs": [
    {
     "data": {
      "text/plain": [
       "(array([0.8, 1. , 1.2, 1.4, 1.6, 1.8, 2. ]),\n",
       " [Text(0, 0, ''),\n",
       "  Text(0, 0, ''),\n",
       "  Text(0, 0, ''),\n",
       "  Text(0, 0, ''),\n",
       "  Text(0, 0, ''),\n",
       "  Text(0, 0, ''),\n",
       "  Text(0, 0, '')])"
      ]
     },
     "execution_count": 130,
     "metadata": {},
     "output_type": "execute_result"
    },
    {
     "data": {
      "image/png": "[encoded data removed]",
      "text/plain": [
       "<Figure size 1080x504 with 1 Axes>"
      ]
     },
     "metadata": {
      "needs_background": "light"
     },
     "output_type": "display_data"
    }
   ],
   "source": [
    "fig, ax = plt.subplots(figsize=(15,7))\n",
    "\n",
    "plt.plot(returns1['Port_return_Cum'],label='Portfolio', linewidth=3)\n",
    "plt.plot(TAIEX['Return_M_Cum'],label='TAIEX', linewidth=3)\n",
    "\n",
    "ax.xaxis.set_major_locator(ticker.MultipleLocator(12))\n",
    "\n",
    "plt.title('Portfolio V.S TAIEX',size = 18, color = 'mediumseagreen')\n",
    "plt.xlabel('Date', fontsize=16, color = \"mediumseagreen\")\n",
    "plt.ylabel('Cumulated Return', fontsize=16, color= \"mediumseagreen\")\n",
    "plt.grid(True)\n",
    "plt.legend(fontsize=\"x-large\")\n",
    "plt.xticks(fontsize=14 )\n",
    "plt.yticks(fontsize=14 )\n",
    "# plt.savefig(\"TAIEX.png\",dpi=150)"
   ]
  },
  {
   "cell_type": "code",
   "execution_count": null,
   "metadata": {},
   "outputs": [],
   "source": []
  }
 ],
 "metadata": {
  "interpreter": {
   "hash": "14d4fbff62c0e9dc96a00571d36e862ff94d0b95e5af95c3927533226faba3a4"
  },
  "kernelspec": {
   "display_name": "Python 3.9.0 64-bit",
   "name": "python3"
  },
  "language_info": {
   "name": "python",
   "version": ""
  },
  "metadata": {
   "interpreter": {
    "hash": "14d4fbff62c0e9dc96a00571d36e862ff94d0b95e5af95c3927533226faba3a4"
   }
  },
  "orig_nbformat": 3
 },
 "nbformat": 4,
 "nbformat_minor": 2
}
